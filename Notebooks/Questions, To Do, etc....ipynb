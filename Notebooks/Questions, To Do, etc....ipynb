{
 "cells": [
  {
   "cell_type": "markdown",
   "metadata": {},
   "source": [
    "# Questions, To Do, etc....\n",
    "\n",
    "### Questions\n",
    "- Are there any software tools to generate XAFS data? (like in Timoschenko FEFF and FDMNES)\n",
    "\n",
    "### Observations\n",
    "- Fitting the generated data takes as long as generating it\n",
    "- Noise rises the error up to one order of magnitude\n",
    "\n",
    "### To Do\n",
    "- Slice giant X arrays into parts and zip to store it\n",
    "- Use several NNs in parallel to increase precision\n",
    "- Review PCA for dimensionality reduction to avoid noise\n",
    "- Learn how NN work (CIML Chapter 10)\n",
    "- Use slkearn.model_selection.GridSearchCV to find good estimator\n",
    "\n",
    "### Ideas\n",
    "- Preprocessing process:\n",
    "    - instead of using a linear grid, us a finer grid where we expact more information to be stored (e.g. peaks, etc...) gauss-lobbato?\n",
    "- Use several NNs for each paramter to increase precision\n",
    "    \n",
    "### Hyperparameter\n",
    "- Number of NN nodes\n",
    "- Number of training input size\n",
    "- Split of training data, development data, test data\n",
    "\n",
    "### Timoshenko NN setup\n",
    "- Artificial Neural Network in Mathematica\n",
    "- SML optimization though tuning with development set\n",
    "- SML set:\n",
    "    - 129 Input nodes (equal to datapoints in spectra)\n",
    "    - around 350 nodes per layer\n",
    "    - two hidden layers\n",
    "    - Hyperbolic Tangent as activation function\n",
    "    - defaul values for regularization coefficients\n",
    "- training set size: 200k - 600k \n",
    "- Different NN for each label (but trained on the same dataset)\n",
    "- Repeatedly training of NN (several times, 5) with different parameters and different training sets to estimate uncertainties of results \n",
    "- Other supervised approaches (e.g. implementations in Tensorflow led to comparable results\n",
    "- Even simple approaches led to reasonable results (e.g. multiple linear regression)"
   ]
  },
  {
   "cell_type": "code",
   "execution_count": null,
   "metadata": {
    "collapsed": true
   },
   "outputs": [],
   "source": []
  }
 ],
 "metadata": {
  "kernelspec": {
   "display_name": "Python 3",
   "language": "python",
   "name": "python3"
  },
  "language_info": {
   "codemirror_mode": {
    "name": "ipython",
    "version": 3
   },
   "file_extension": ".py",
   "mimetype": "text/x-python",
   "name": "python",
   "nbconvert_exporter": "python",
   "pygments_lexer": "ipython3",
   "version": "3.6.3"
  }
 },
 "nbformat": 4,
 "nbformat_minor": 2
}
