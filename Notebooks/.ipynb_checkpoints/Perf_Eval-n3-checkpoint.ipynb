{
 "cells": [
  {
   "cell_type": "code",
   "execution_count": null,
   "metadata": {},
   "outputs": [],
   "source": [
    "import MLforXES\n",
    "from MLforXES.main import *"
   ]
  },
  {
   "cell_type": "markdown",
   "metadata": {
    "heading_collapsed": true
   },
   "source": [
    "### Test 1e3n3 on 1e3n3 with maxIt = 1e5, batchsize = 50"
   ]
  },
  {
   "cell_type": "code",
   "execution_count": null,
   "metadata": {
    "collapsed": true,
    "hidden": true
   },
   "outputs": [],
   "source": [
    "\"\"\"\n",
    "Defining (Hyper)Parameters\n",
    "\"\"\"\n",
    "exp = 3 # Exponent defining the size of the file\n",
    "factor = 1\n",
    "N = int(factor*10**(exp)) # Actual value\n",
    "n = 3 # Number of spectra\n",
    "comment = \"test\" # Comment for data file name\n",
    "data_size = str(int(N/1000))+\"k_\" # Value for labeling the data (in \"kilo samples\") \n",
    "set_name = data_size+comment+\"_library\"\n",
    "# Following the definition of the different models\n",
    "model = MLPC(max_iter=int(1e5), hidden_layer_sizes=(100,100),  activation=\"logistic\", \n",
    "                 solver='sgd', learning_rate = 'constant', batch_size=50, momentum = 0.9,\n",
    "                 verbose = True, early_stopping=False, tol = 1e-6)"
   ]
  },
  {
   "cell_type": "code",
   "execution_count": null,
   "metadata": {
    "hidden": true
   },
   "outputs": [],
   "source": [
    "build_library(N, n, random_states=True, noise = True, Set = \"1e3n3\", verbosity=True, poisson=2000)"
   ]
  },
  {
   "cell_type": "code",
   "execution_count": null,
   "metadata": {
    "hidden": true
   },
   "outputs": [],
   "source": [
    "library = load_library(Set = \"1e3n3\", fraction = 100, verbosity=True)"
   ]
  },
  {
   "cell_type": "code",
   "execution_count": null,
   "metadata": {
    "hidden": true,
    "scrolled": false
   },
   "outputs": [],
   "source": [
    "predict_train, predict_dev, predict_proba_train, predict_proba_dev = test_envir(library, n, model, verbosity=2, scaling=False, pca = False, k = 30)"
   ]
  },
  {
   "cell_type": "code",
   "execution_count": null,
   "metadata": {
    "hidden": true
   },
   "outputs": [],
   "source": [
    "Xtrain, Ytrain, Xdev, Ydev, Xtest, Ytest = split_library(library, \"energy_label\")\n",
    "Xtrain_en, Ytrain_en, Xdev_en, Ydev_en, Xtest_en, Ytest_en = split_library(library, \"energies_binned\")\n",
    "bins = GRID_TARGET[0:len(GRID_TARGET)-1]\n",
    "bins_int = bins*100\n",
    "bins_int = bins_int.astype(int)\n",
    "for k in range(10):\n",
    "    plt.xlim(2008,2018)\n",
    "    plt.plot(GRID_FEATURES, Xdev[k])\n",
    "    plt.plot(Ydev_en[k,0], 0.01, 'ro')\n",
    "    plt.plot(Ydev_en[k,1], 0.01, 'ro')\n",
    "    plt.plot(Ydev_en[k,2], 0.01, 'ro')\n",
    "    plt.bar(bins, predict_proba_dev[k][:])\n",
    "    #plt.bar(bins, predict_proba_dev[1][k][:])\n",
    "    plt.grid(True)\n",
    "    plotly_show()"
   ]
  },
  {
   "cell_type": "code",
   "execution_count": null,
   "metadata": {
    "hidden": true
   },
   "outputs": [],
   "source": [
    "fit = prob_stats(predict_proba_dev)"
   ]
  },
  {
   "cell_type": "code",
   "execution_count": null,
   "metadata": {
    "hidden": true
   },
   "outputs": [],
   "source": [
    "plt.plot(GRID_TARGET, fit[1][0].eval(x=GRID_TARGET), \"r\", lw=2)\n",
    "plt.bar(GRID_TARGET[0:len(GRID_TARGET)-1], predict_proba_dev[1])\n",
    "plotly_show()"
   ]
  },
  {
   "cell_type": "code",
   "execution_count": null,
   "metadata": {
    "collapsed": true,
    "hidden": true
   },
   "outputs": [],
   "source": []
  },
  {
   "cell_type": "markdown",
   "metadata": {},
   "source": [
    "### Test 1e3n3 on 1e3n3 with maxIt = 5e5, batchsize = 50"
   ]
  },
  {
   "cell_type": "code",
   "execution_count": null,
   "metadata": {
    "collapsed": true
   },
   "outputs": [],
   "source": [
    "\"\"\"\n",
    "Defining (Hyper)Parameters\n",
    "\"\"\"\n",
    "exp = 3 # Exponent defining the size of the file\n",
    "factor = 1\n",
    "N = int(factor*10**(exp)) # Actual value\n",
    "n = 3 # Number of spectra\n",
    "comment = \"test\" # Comment for data file name\n",
    "data_size = str(int(N/1000))+\"k_\" # Value for labeling the data (in \"kilo samples\") \n",
    "set_name = data_size+comment+\"_library\"\n",
    "# Following the definition of the different models\n",
    "model = MLPC(max_iter=int(5e5), hidden_layer_sizes=(100,100),  activation=\"logistic\", \n",
    "                 solver='sgd', learning_rate = 'constant', batch_size=50, momentum = 0.9,\n",
    "                 verbose = True, early_stopping=False, tol = 1e-6)"
   ]
  },
  {
   "cell_type": "code",
   "execution_count": null,
   "metadata": {},
   "outputs": [],
   "source": [
    "build_library(N, n, random_states=True, noise = True, Set = \"1e3n3\", verbosity=True, poisson=2000)"
   ]
  },
  {
   "cell_type": "code",
   "execution_count": null,
   "metadata": {},
   "outputs": [],
   "source": [
    "library = load_library(Set = \"1e3n3\", fraction = 100, verbosity=True)"
   ]
  },
  {
   "cell_type": "code",
   "execution_count": null,
   "metadata": {
    "collapsed": true
   },
   "outputs": [],
   "source": [
    "predict_train, predict_dev, predict_proba_train, predict_proba_dev = test_envir(library, n, model, verbosity=2, scaling=False, pca = False, k = 30)"
   ]
  },
  {
   "cell_type": "code",
   "execution_count": null,
   "metadata": {
    "collapsed": true
   },
   "outputs": [],
   "source": [
    "Xtrain, Ytrain, Xdev, Ydev, Xtest, Ytest = split_library(library, \"energy_label\")\n",
    "Xtrain_en, Ytrain_en, Xdev_en, Ydev_en, Xtest_en, Ytest_en = split_library(library, \"energies_binned\")\n",
    "bins = GRID_TARGET[0:len(GRID_TARGET)-1]\n",
    "bins_int = bins*100\n",
    "bins_int = bins_int.astype(int)\n",
    "for k in range(10):\n",
    "    plt.xlim(2008,2018)\n",
    "    plt.plot(GRID_FEATURES, Xdev[k])\n",
    "    plt.plot(Ydev_en[k,0], 0.01, 'ro')\n",
    "    plt.plot(Ydev_en[k,1], 0.01, 'ro')\n",
    "    plt.plot(Ydev_en[k,2], 0.01, 'ro')\n",
    "    plt.bar(bins, predict_proba_dev[k][:])\n",
    "    #plt.bar(bins, predict_proba_dev[1][k][:])\n",
    "    plt.grid(True)\n",
    "    plotly_show()"
   ]
  },
  {
   "cell_type": "code",
   "execution_count": null,
   "metadata": {
    "collapsed": true
   },
   "outputs": [],
   "source": [
    "fit = prob_stats(predict_proba_dev)"
   ]
  },
  {
   "cell_type": "code",
   "execution_count": null,
   "metadata": {
    "collapsed": true
   },
   "outputs": [],
   "source": [
    "plt.plot(GRID_TARGET, fit[1][0].eval(x=GRID_TARGET), \"r\", lw=2)\n",
    "plt.bar(GRID_TARGET[0:len(GRID_TARGET)-1], predict_proba_dev[1])\n",
    "plotly_show()"
   ]
  },
  {
   "cell_type": "code",
   "execution_count": null,
   "metadata": {
    "collapsed": true
   },
   "outputs": [],
   "source": []
  },
  {
   "cell_type": "markdown",
   "metadata": {},
   "source": [
    "### Test 1e3n3 on 1e3n3 with maxIt = 5e5, batchsize = 50"
   ]
  },
  {
   "cell_type": "code",
   "execution_count": null,
   "metadata": {
    "collapsed": true
   },
   "outputs": [],
   "source": [
    "\"\"\"\n",
    "Defining (Hyper)Parameters\n",
    "\"\"\"\n",
    "exp = 3 # Exponent defining the size of the file\n",
    "factor = 1\n",
    "N = int(factor*10**(exp)) # Actual value\n",
    "n = 3 # Number of spectra\n",
    "comment = \"test\" # Comment for data file name\n",
    "data_size = str(int(N/1000))+\"k_\" # Value for labeling the data (in \"kilo samples\") \n",
    "set_name = data_size+comment+\"_library\"\n",
    "# Following the definition of the different models\n",
    "model = MLPC(max_iter=int(500), hidden_layer_sizes=(100,100),  activation=\"logistic\", \n",
    "                 solver='sgd', learning_rate = 'constant', batch_size=50, momentum = 0.9,\n",
    "                 verbose = True, early_stopping=False, tol = 1e-6)"
   ]
  },
  {
   "cell_type": "code",
   "execution_count": null,
   "metadata": {},
   "outputs": [],
   "source": [
    "build_library(N, n, random_states=True, noise = True, Set = \"1e3n3\", verbosity=True, poisson=2000)"
   ]
  },
  {
   "cell_type": "code",
   "execution_count": null,
   "metadata": {
    "collapsed": true
   },
   "outputs": [],
   "source": [
    "library = load_library(Set = \"1e3n3\", fraction = 100, verbosity=True)"
   ]
  },
  {
   "cell_type": "code",
   "execution_count": null,
   "metadata": {
    "scrolled": false
   },
   "outputs": [],
   "source": [
    "predict_train, predict_dev, predict_proba_train, predict_proba_dev = test_envir(library, n, model, verbosity=0, scaling=False, pca = False, k = 30)"
   ]
  },
  {
   "cell_type": "code",
   "execution_count": null,
   "metadata": {
    "collapsed": true
   },
   "outputs": [],
   "source": [
    "Xtrain, Ytrain, Xdev, Ydev, Xtest, Ytest = split_library(library, \"energy_label\")\n",
    "Xtrain_en, Ytrain_en, Xdev_en, Ydev_en, Xtest_en, Ytest_en = split_library(library, \"energies_binned\")\n",
    "bins = GRID_TARGET[0:len(GRID_TARGET)-1]\n",
    "bins_int = bins*100\n",
    "bins_int = bins_int.astype(int)\n",
    "for k in range(10):\n",
    "    plt.xlim(2008,2018)\n",
    "    plt.plot(GRID_FEATURES, Xdev[k])\n",
    "    plt.plot(Ydev_en[k,0], 0.01, 'ro')\n",
    "    plt.plot(Ydev_en[k,1], 0.01, 'ro')\n",
    "    plt.plot(Ydev_en[k,2], 0.01, 'ro')\n",
    "    plt.bar(bins, predict_proba_dev[k][:])\n",
    "    #plt.bar(bins, predict_proba_dev[1][k][:])\n",
    "    plt.grid(True)\n",
    "    plotly_show()"
   ]
  },
  {
   "cell_type": "code",
   "execution_count": null,
   "metadata": {
    "collapsed": true
   },
   "outputs": [],
   "source": [
    "fit = prob_stats(predict_proba_dev)"
   ]
  },
  {
   "cell_type": "code",
   "execution_count": null,
   "metadata": {
    "collapsed": true
   },
   "outputs": [],
   "source": [
    "plt.plot(GRID_TARGET, fit[1][0].eval(x=GRID_TARGET), \"r\", lw=2)\n",
    "plt.bar(GRID_TARGET[0:len(GRID_TARGET)-1], predict_proba_dev[1])\n",
    "plotly_show()"
   ]
  },
  {
   "cell_type": "code",
   "execution_count": null,
   "metadata": {
    "collapsed": true
   },
   "outputs": [],
   "source": []
  },
  {
   "cell_type": "code",
   "execution_count": null,
   "metadata": {
    "collapsed": true
   },
   "outputs": [],
   "source": []
  }
 ],
 "metadata": {
  "kernelspec": {
   "display_name": "Python 3",
   "language": "python",
   "name": "python3"
  },
  "language_info": {
   "codemirror_mode": {
    "name": "ipython",
    "version": 3
   },
   "file_extension": ".py",
   "mimetype": "text/x-python",
   "name": "python",
   "nbconvert_exporter": "python",
   "pygments_lexer": "ipython3",
   "version": "3.6.3"
  }
 },
 "nbformat": 4,
 "nbformat_minor": 2
}
